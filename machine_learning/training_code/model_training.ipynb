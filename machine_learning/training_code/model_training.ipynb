{
 "cells": [
  {
   "cell_type": "markdown",
   "id": "849ccb47",
   "metadata": {},
   "source": [
    "# Model training notebook"
   ]
  },
  {
   "cell_type": "markdown",
   "id": "3b80f1de",
   "metadata": {},
   "source": []
  }
 ],
 "metadata": {
  "language_info": {
   "name": "python"
  }
 },
 "nbformat": 4,
 "nbformat_minor": 5
}
